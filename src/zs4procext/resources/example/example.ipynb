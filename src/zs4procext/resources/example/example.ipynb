{
 "cells": [
  {
   "cell_type": "code",
   "execution_count": 1,
   "id": "28a2fe95",
   "metadata": {},
   "outputs": [
    {
     "name": "stderr",
     "output_type": "stream",
     "text": [
      "/home/daniscp98/anaconda3/envs/zs4procext/lib/python3.10/site-packages/pydantic/_internal/_generate_schema.py:898: UserWarning: Mixing V1 models and V2 models (or constructs, like `TypeAdapter`) is not supported. Please upgrade `VLLM` to V2.\n",
      "  warn(\n"
     ]
    }
   ],
   "source": [
    "from zs4procext.prompt import PromptFormatter\n",
    "from zs4procext.llm import ModelLLM\n",
    "from zs4procext.parser import ParametersParser\n",
    "import json"
   ]
  },
  {
   "cell_type": "code",
   "execution_count": null,
   "id": "09505531",
   "metadata": {},
   "outputs": [],
   "source": [
    "with open(\"prompt_schema.json\", \"r\") as f:\n",
    "            prompt_dict = json.load(f)\n",
    "text = \"The alkaline treatment process was carried out using a 0.2 mol at 338 K. L-1 NaOH solution. In all experiments, 1 g of ZSM-5 zeolite and 100 mL of solution were used. The duration of the process was limited to 30 and 10 min for conventional electric and microwave (500 W) heating’s, respectively.\"\n",
    "prompt = PromptFormatter(**prompt_dict)\n",
    "prompt.model_post_init(\"phi_mini_4k_template.json\")\n",
    "llm_model = ModelLLM(model_name=\"microsoft/Phi-3-mini-4k-instruct\")\n",
    "llm_model.load_model_parameters(\"model_parameters.json\")\n",
    "llm_model.vllm_load_model()\n",
    "final_prompt = prompt.format_prompt(text)\n",
    "response = llm_model.run_single_prompt(final_prompt).strip()\n",
    "print(response)\n",
    "temperature_parser = ParametersParser(\n",
    "            parser_params_path = \"parser_parameters.json\",\n",
    "            convert_units=True,\n",
    "            time=False,\n",
    "            temperature=True,\n",
    "            pressure=False,\n",
    "            amount=False,\n",
    "            atmosphere=False,\n",
    "            size=False\n",
    "        )\n",
    "temperature = temperature_parser.get_parameters(response).temperature\n",
    "print(temperature)"
   ]
  }
 ],
 "metadata": {
  "kernelspec": {
   "display_name": "zs4procext",
   "language": "python",
   "name": "python3"
  },
  "language_info": {
   "codemirror_mode": {
    "name": "ipython",
    "version": 3
   },
   "file_extension": ".py",
   "mimetype": "text/x-python",
   "name": "python",
   "nbconvert_exporter": "python",
   "pygments_lexer": "ipython3",
   "version": "undefined.undefined.undefined"
  }
 },
 "nbformat": 4,
 "nbformat_minor": 5
}
